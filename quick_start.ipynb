{
 "cells": [
  {
   "cell_type": "code",
   "execution_count": 1,
   "id": "7e6185f0",
   "metadata": {},
   "outputs": [],
   "source": [
    "import pandas as pd\n",
    "from time import time\n",
    "import os"
   ]
  },
  {
   "cell_type": "markdown",
   "id": "218879b3",
   "metadata": {},
   "source": [
    "# Read & Preprocess"
   ]
  },
  {
   "cell_type": "code",
   "execution_count": 2,
   "id": "27a8dbdf",
   "metadata": {},
   "outputs": [],
   "source": [
    "from preprocess import read_worklogs_files, preprocess_worklogs"
   ]
  },
  {
   "cell_type": "code",
   "execution_count": 3,
   "id": "0e1e2f5c",
   "metadata": {},
   "outputs": [
    {
     "name": "stdout",
     "output_type": "stream",
     "text": [
      "122.41984677314758\n"
     ]
    }
   ],
   "source": [
    "t = time()\n",
    "worklogs = read_worklogs_files()\n",
    "print(time() - t)"
   ]
  },
  {
   "cell_type": "code",
   "execution_count": 4,
   "id": "25a27660",
   "metadata": {},
   "outputs": [
    {
     "name": "stdout",
     "output_type": "stream",
     "text": [
      "4.0200114250183105\n"
     ]
    }
   ],
   "source": [
    "t = time()\n",
    "worklogs = preprocess_worklogs(worklogs)\n",
    "print(time() - t)"
   ]
  },
  {
   "cell_type": "code",
   "execution_count": 5,
   "id": "f0d7a84f",
   "metadata": {},
   "outputs": [],
   "source": [
    "pd.to_pickle(worklogs, '../data/worklogs.pkl')"
   ]
  },
  {
   "cell_type": "markdown",
   "id": "88362500",
   "metadata": {},
   "source": [
    "# Calculate"
   ]
  },
  {
   "cell_type": "code",
   "execution_count": 6,
   "id": "2f87c267",
   "metadata": {},
   "outputs": [],
   "source": [
    "from calculate import calculate_worklogs, calculate_users_interval, calculate_metrics, calculate_performance"
   ]
  },
  {
   "cell_type": "code",
   "execution_count": 7,
   "id": "943a5d0b",
   "metadata": {},
   "outputs": [
    {
     "name": "stdout",
     "output_type": "stream",
     "text": [
      "------- Worklogs -------\n",
      "min_date     2019-01-01\n",
      "max_date     2023-01-14\n",
      "#logs             83396\n",
      "#issues           19667\n",
      "#projects            49\n",
      "#users               51\n",
      "dtype: object\n",
      "9.143399238586426\n"
     ]
    }
   ],
   "source": [
    "t = time()\n",
    "worklogs_calc, issues, projects, info = calculate_worklogs(worklogs)\n",
    "print(time() - t)"
   ]
  },
  {
   "cell_type": "code",
   "execution_count": null,
   "id": "cabcded3",
   "metadata": {},
   "outputs": [],
   "source": [
    "t = time()\n",
    "\n",
    "intervals = {\n",
    "    '2019': ['20190101', '20191231'],\n",
    "    '2020': ['20200101', '20201231'],\n",
    "    '2021': ['20210101', '20211231'],\n",
    "    '2022': ['20220101', '20221231'],\n",
    "    '2019-2022': ['20190101', '20221231'], \n",
    "}\n",
    "\n",
    "users_and_metrics = {}\n",
    "for key, interval in intervals.items():\n",
    "    users_calc = calculate_users_interval(worklogs_calc, interval)\n",
    "    metrics = calculate_metrics(users_calc)\n",
    "    performance = calculate_performance(metrics)\n",
    "    data = users_calc.join(metrics).join(performance, rsuffix='_std')\n",
    "    users_and_metrics[key] = data\n",
    "print(time() - t)"
   ]
  },
  {
   "cell_type": "code",
   "execution_count": null,
   "id": "939a0a67",
   "metadata": {},
   "outputs": [],
   "source": [
    "pd.to_pickle(worklogs_calc, '../data/worklogs_calc.pkl')\n",
    "pd.to_pickle(users_and_metrics, '../data/users_and_metrics.pkl')"
   ]
  },
  {
   "cell_type": "markdown",
   "id": "ceba0a69",
   "metadata": {},
   "source": [
    "# Report"
   ]
  },
  {
   "cell_type": "code",
   "execution_count": null,
   "id": "78e6ab08",
   "metadata": {},
   "outputs": [],
   "source": [
    "from conventions import Report\n",
    "from report import data_to_plot, employee_report"
   ]
  },
  {
   "cell_type": "code",
   "execution_count": null,
   "id": "c0c3ac72",
   "metadata": {},
   "outputs": [],
   "source": [
    "year = 2022\n",
    "history = range(2019, 2022)\n",
    "employees, info, kpi, score, yearly, time_split, by_project = data_to_plot(users_and_metrics, year, history)"
   ]
  },
  {
   "cell_type": "code",
   "execution_count": null,
   "id": "95ba3ffb",
   "metadata": {},
   "outputs": [],
   "source": [
    "t = time()\n",
    "for employee in employees:\n",
    "    employee_report(employee, \n",
    "                    year, \n",
    "                    info.loc[employee], \n",
    "                    kpi.loc[employee], \n",
    "                    score, \n",
    "                    time_split.loc[employee],\n",
    "                    by_project.loc[employee], \n",
    "                    yearly.loc[employee], \n",
    "                    save=Report.IMAGES_FOLDER + employee, \n",
    "                    dpi=1000)\n",
    "print(time() - t)   "
   ]
  },
  {
   "cell_type": "code",
   "execution_count": null,
   "id": "1a870c9f",
   "metadata": {},
   "outputs": [],
   "source": []
  }
 ],
 "metadata": {
  "kernelspec": {
   "display_name": "Python 3 (ipykernel)",
   "language": "python",
   "name": "python3"
  },
  "language_info": {
   "codemirror_mode": {
    "name": "ipython",
    "version": 3
   },
   "file_extension": ".py",
   "mimetype": "text/x-python",
   "name": "python",
   "nbconvert_exporter": "python",
   "pygments_lexer": "ipython3",
   "version": "3.7.3"
  }
 },
 "nbformat": 4,
 "nbformat_minor": 5
}
