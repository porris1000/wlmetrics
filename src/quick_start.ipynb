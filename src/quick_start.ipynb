{
 "cells": [
  {
   "cell_type": "code",
   "execution_count": 1,
   "id": "7e6185f0",
   "metadata": {},
   "outputs": [],
   "source": [
    "from time import time\n",
    "\n",
    "from preprocess import read_worklogs_files, preprocess_worklogs\n",
    "from calculate import calculate_metrics_by_year\n",
    "from report import generate_reports"
   ]
  },
  {
   "cell_type": "markdown",
   "id": "218879b3",
   "metadata": {},
   "source": [
    "# Read"
   ]
  },
  {
   "cell_type": "code",
   "execution_count": 2,
   "id": "0e1e2f5c",
   "metadata": {},
   "outputs": [
    {
     "name": "stdout",
     "output_type": "stream",
     "text": [
      "78.70311689376831\n"
     ]
    }
   ],
   "source": [
    "t = time()\n",
    "worklogs = read_worklogs_files()\n",
    "print(time() - t)"
   ]
  },
  {
   "cell_type": "markdown",
   "id": "a4f9ad40",
   "metadata": {},
   "source": [
    "# Preprocess"
   ]
  },
  {
   "cell_type": "code",
   "execution_count": 3,
   "id": "25a27660",
   "metadata": {},
   "outputs": [
    {
     "name": "stdout",
     "output_type": "stream",
     "text": [
      "2.6243643760681152\n"
     ]
    }
   ],
   "source": [
    "t = time()\n",
    "worklogs = preprocess_worklogs(worklogs)\n",
    "print(time() - t)"
   ]
  },
  {
   "cell_type": "markdown",
   "id": "88362500",
   "metadata": {},
   "source": [
    "# Calculate"
   ]
  },
  {
   "cell_type": "code",
   "execution_count": 4,
   "id": "573abe8a",
   "metadata": {},
   "outputs": [],
   "source": [
    "years = range(2019, 2023)"
   ]
  },
  {
   "cell_type": "code",
   "execution_count": 5,
   "id": "943a5d0b",
   "metadata": {},
   "outputs": [
    {
     "name": "stdout",
     "output_type": "stream",
     "text": [
      "------- Worklogs -------\n",
      "min_date     2019-01-01\n",
      "max_date     2023-01-14\n",
      "#logs             83396\n",
      "#issues           19667\n",
      "#projects            49\n",
      "#users               51\n",
      "dtype: object\n",
      "23.895689249038696\n"
     ]
    }
   ],
   "source": [
    "t = time()\n",
    "users_and_metrics, worklogs_calc, issues, projects, info = calculate_metrics_by_year(worklogs, years)\n",
    "print(time() - t)"
   ]
  },
  {
   "cell_type": "markdown",
   "id": "ceba0a69",
   "metadata": {},
   "source": [
    "# Report"
   ]
  },
  {
   "cell_type": "code",
   "execution_count": 6,
   "id": "e50cb798",
   "metadata": {},
   "outputs": [],
   "source": [
    "year = years[-1]\n",
    "history = years[:-1]"
   ]
  },
  {
   "cell_type": "code",
   "execution_count": 7,
   "id": "95ba3ffb",
   "metadata": {},
   "outputs": [
    {
     "name": "stdout",
     "output_type": "stream",
     "text": [
      "50.281001329422\n"
     ]
    }
   ],
   "source": [
    "t = time()\n",
    "generate_reports(users_and_metrics, year, history)\n",
    "print(time() - t)   "
   ]
  },
  {
   "cell_type": "markdown",
   "id": "6d62b7b5",
   "metadata": {},
   "source": [
    "# Compute overall metrics"
   ]
  },
  {
   "cell_type": "code",
   "execution_count": 8,
   "id": "e52c3100",
   "metadata": {},
   "outputs": [
    {
     "name": "stdout",
     "output_type": "stream",
     "text": [
      "16.65597152709961\n"
     ]
    }
   ],
   "source": [
    "from calculate import calculate_users_interval, calculate_metrics, calculate_performance\n",
    "\n",
    "t = time()\n",
    "\n",
    "interval = ['20190101', '20221231']\n",
    "\n",
    "users_calc = calculate_users_interval(worklogs_calc, interval)\n",
    "metrics = calculate_metrics(users_calc)\n",
    "performance = calculate_performance(metrics)\n",
    "data = users_calc.join(metrics).join(performance, rsuffix='_std')\n",
    "users_and_metrics['2019-2022'] = data\n",
    "print(time() - t)\n"
   ]
  },
  {
   "cell_type": "markdown",
   "id": "f38c452f",
   "metadata": {},
   "source": [
    "# Save data"
   ]
  },
  {
   "cell_type": "code",
   "execution_count": 9,
   "id": "3a242c45",
   "metadata": {},
   "outputs": [],
   "source": [
    "import pandas as pd\n",
    "\n",
    "pd.to_pickle(worklogs, '../data/worklogs.pkl')\n",
    "pd.to_pickle(worklogs_calc, '../data/worklogs_calc.pkl')\n",
    "pd.to_pickle(users_and_metrics, '../data/users_and_metrics.pkl')"
   ]
  },
  {
   "cell_type": "code",
   "execution_count": null,
   "id": "bf1bfe64",
   "metadata": {},
   "outputs": [],
   "source": []
  }
 ],
 "metadata": {
  "kernelspec": {
   "display_name": "Python 3 (ipykernel)",
   "language": "python",
   "name": "python3"
  },
  "language_info": {
   "codemirror_mode": {
    "name": "ipython",
    "version": 3
   },
   "file_extension": ".py",
   "mimetype": "text/x-python",
   "name": "python",
   "nbconvert_exporter": "python",
   "pygments_lexer": "ipython3",
   "version": "3.7.3"
  }
 },
 "nbformat": 4,
 "nbformat_minor": 5
}
